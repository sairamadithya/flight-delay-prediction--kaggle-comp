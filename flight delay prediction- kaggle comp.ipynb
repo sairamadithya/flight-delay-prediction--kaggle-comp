{
 "cells": [
  {
   "cell_type": "code",
   "execution_count": 4,
   "id": "e4a0622c",
   "metadata": {},
   "outputs": [
    {
     "data": {
      "text/html": [
       "<div>\n",
       "<style scoped>\n",
       "    .dataframe tbody tr th:only-of-type {\n",
       "        vertical-align: middle;\n",
       "    }\n",
       "\n",
       "    .dataframe tbody tr th {\n",
       "        vertical-align: top;\n",
       "    }\n",
       "\n",
       "    .dataframe thead th {\n",
       "        text-align: right;\n",
       "    }\n",
       "</style>\n",
       "<table border=\"1\" class=\"dataframe\">\n",
       "  <thead>\n",
       "    <tr style=\"text-align: right;\">\n",
       "      <th></th>\n",
       "      <th>Month</th>\n",
       "      <th>DayofMonth</th>\n",
       "      <th>DayOfWeek</th>\n",
       "      <th>DepTime</th>\n",
       "      <th>UniqueCarrier</th>\n",
       "      <th>Origin</th>\n",
       "      <th>Dest</th>\n",
       "      <th>Distance</th>\n",
       "      <th>dep_delayed_15min</th>\n",
       "    </tr>\n",
       "  </thead>\n",
       "  <tbody>\n",
       "    <tr>\n",
       "      <th>0</th>\n",
       "      <td>c-8</td>\n",
       "      <td>c-21</td>\n",
       "      <td>c-7</td>\n",
       "      <td>1934</td>\n",
       "      <td>AA</td>\n",
       "      <td>ATL</td>\n",
       "      <td>DFW</td>\n",
       "      <td>732</td>\n",
       "      <td>N</td>\n",
       "    </tr>\n",
       "    <tr>\n",
       "      <th>1</th>\n",
       "      <td>c-4</td>\n",
       "      <td>c-20</td>\n",
       "      <td>c-3</td>\n",
       "      <td>1548</td>\n",
       "      <td>US</td>\n",
       "      <td>PIT</td>\n",
       "      <td>MCO</td>\n",
       "      <td>834</td>\n",
       "      <td>N</td>\n",
       "    </tr>\n",
       "    <tr>\n",
       "      <th>2</th>\n",
       "      <td>c-9</td>\n",
       "      <td>c-2</td>\n",
       "      <td>c-5</td>\n",
       "      <td>1422</td>\n",
       "      <td>XE</td>\n",
       "      <td>RDU</td>\n",
       "      <td>CLE</td>\n",
       "      <td>416</td>\n",
       "      <td>N</td>\n",
       "    </tr>\n",
       "    <tr>\n",
       "      <th>3</th>\n",
       "      <td>c-11</td>\n",
       "      <td>c-25</td>\n",
       "      <td>c-6</td>\n",
       "      <td>1015</td>\n",
       "      <td>OO</td>\n",
       "      <td>DEN</td>\n",
       "      <td>MEM</td>\n",
       "      <td>872</td>\n",
       "      <td>N</td>\n",
       "    </tr>\n",
       "    <tr>\n",
       "      <th>4</th>\n",
       "      <td>c-10</td>\n",
       "      <td>c-7</td>\n",
       "      <td>c-6</td>\n",
       "      <td>1828</td>\n",
       "      <td>WN</td>\n",
       "      <td>MDW</td>\n",
       "      <td>OMA</td>\n",
       "      <td>423</td>\n",
       "      <td>Y</td>\n",
       "    </tr>\n",
       "  </tbody>\n",
       "</table>\n",
       "</div>"
      ],
      "text/plain": [
       "  Month DayofMonth DayOfWeek  DepTime UniqueCarrier Origin Dest  Distance  \\\n",
       "0   c-8       c-21       c-7     1934            AA    ATL  DFW       732   \n",
       "1   c-4       c-20       c-3     1548            US    PIT  MCO       834   \n",
       "2   c-9        c-2       c-5     1422            XE    RDU  CLE       416   \n",
       "3  c-11       c-25       c-6     1015            OO    DEN  MEM       872   \n",
       "4  c-10        c-7       c-6     1828            WN    MDW  OMA       423   \n",
       "\n",
       "  dep_delayed_15min  \n",
       "0                 N  \n",
       "1                 N  \n",
       "2                 N  \n",
       "3                 N  \n",
       "4                 Y  "
      ]
     },
     "execution_count": 4,
     "metadata": {},
     "output_type": "execute_result"
    }
   ],
   "source": [
    "import numpy as np\n",
    "import pandas as pd\n",
    "train=pd.read_csv(r\"C:\\Users\\sairam\\Downloads\\flight-delays-fall-2018\\flight_delays_train.csv\")\n",
    "test=pd.read_csv(r\"C:\\Users\\sairam\\Downloads\\flight-delays-fall-2018\\flight_delays_test.csv\")\n",
    "data.head()"
   ]
  },
  {
   "cell_type": "code",
   "execution_count": 5,
   "id": "4d110941",
   "metadata": {},
   "outputs": [
    {
     "name": "stdout",
     "output_type": "stream",
     "text": [
      "      Month DayofMonth DayOfWeek  DepTime UniqueCarrier Origin Dest  Distance\n",
      "0       c-7       c-25       c-3      615            YV    MRY  PHX       598\n",
      "1       c-4       c-17       c-2      739            WN    LAS  HOU      1235\n",
      "2      c-12        c-2       c-7      651            MQ    GSP  ORD       577\n",
      "3       c-3       c-25       c-7     1614            WN    BWI  MHT       377\n",
      "4       c-6        c-6       c-3     1505            UA    ORD  STL       258\n",
      "...     ...        ...       ...      ...           ...    ...  ...       ...\n",
      "99995   c-6        c-5       c-2      852            WN    CRP  HOU       187\n",
      "99996  c-11       c-24       c-6     1446            UA    ORD  LAS      1515\n",
      "99997   c-1       c-30       c-2     1509            OO    ORD  SGF       438\n",
      "99998   c-1        c-5       c-5      804            DL    LGA  ATL       761\n",
      "99999  c-10       c-29       c-1      834            OO    MKE  MSP       297\n",
      "\n",
      "[100000 rows x 8 columns]\n"
     ]
    }
   ],
   "source": [
    "train[\"Month\"] = [int(month[2:]) for month in train[\"Month\"]]\n",
    "train[\"DayofMonth\"] = [int(day[2:]) for day in train[\"DayofMonth\"]]\n",
    "train['hour'] = train['DepTime'] // 100\n",
    "\n",
    "train = train.drop(\"DepTime\", axis=1)\n",
    "train = train.drop(\"DayOfWeek\", axis=1)\n",
    "\n",
    "train[\"dep_delayed_15min\"] = [1  if n == \"Y\" else 0 for n in train[\"dep_delayed_15min\"]]\n",
    "\n",
    "for col in ['Origin', 'Dest', 'UniqueCarrier']:\n",
    "    train[col] = pd.factorize(train[col])[0]\n",
    "\n",
    "print(test)\n",
    "\n",
    "test[\"Month\"] = [int(month[2:]) for month in test[\"Month\"]]\n",
    "test[\"DayofMonth\"] = [int(day[2:]) for day in test[\"DayofMonth\"]]\n",
    "test['hour'] = test['DepTime'] // 100\n",
    "\n",
    "test = test.drop(\"DepTime\", axis=1)\n",
    "test = test.drop(\"DayOfWeek\", axis=1)\n",
    "for col in ['Origin', 'Dest', 'UniqueCarrier']:\n",
    "    test[col] = pd.factorize(test[col])[0]"
   ]
  },
  {
   "cell_type": "code",
   "execution_count": 6,
   "id": "14a6d516",
   "metadata": {},
   "outputs": [
    {
     "name": "stdout",
     "output_type": "stream",
     "text": [
      "<class 'pandas.core.frame.DataFrame'>\n",
      "RangeIndex: 100000 entries, 0 to 99999\n",
      "Data columns (total 8 columns):\n",
      " #   Column             Non-Null Count   Dtype\n",
      "---  ------             --------------   -----\n",
      " 0   Month              100000 non-null  int64\n",
      " 1   DayofMonth         100000 non-null  int64\n",
      " 2   UniqueCarrier      100000 non-null  int64\n",
      " 3   Origin             100000 non-null  int64\n",
      " 4   Dest               100000 non-null  int64\n",
      " 5   Distance           100000 non-null  int64\n",
      " 6   dep_delayed_15min  100000 non-null  int64\n",
      " 7   hour               100000 non-null  int64\n",
      "dtypes: int64(8)\n",
      "memory usage: 6.1 MB\n"
     ]
    }
   ],
   "source": [
    "train.info()"
   ]
  },
  {
   "cell_type": "code",
   "execution_count": 7,
   "id": "28f0ffab",
   "metadata": {},
   "outputs": [
    {
     "data": {
      "text/html": [
       "<div>\n",
       "<style scoped>\n",
       "    .dataframe tbody tr th:only-of-type {\n",
       "        vertical-align: middle;\n",
       "    }\n",
       "\n",
       "    .dataframe tbody tr th {\n",
       "        vertical-align: top;\n",
       "    }\n",
       "\n",
       "    .dataframe thead th {\n",
       "        text-align: right;\n",
       "    }\n",
       "</style>\n",
       "<table border=\"1\" class=\"dataframe\">\n",
       "  <thead>\n",
       "    <tr style=\"text-align: right;\">\n",
       "      <th></th>\n",
       "      <th>Month</th>\n",
       "      <th>DayofMonth</th>\n",
       "      <th>UniqueCarrier</th>\n",
       "      <th>Origin</th>\n",
       "      <th>Dest</th>\n",
       "      <th>Distance</th>\n",
       "      <th>dep_delayed_15min</th>\n",
       "      <th>hour</th>\n",
       "    </tr>\n",
       "  </thead>\n",
       "  <tbody>\n",
       "    <tr>\n",
       "      <th>0</th>\n",
       "      <td>0.636364</td>\n",
       "      <td>0.666667</td>\n",
       "      <td>0.000000</td>\n",
       "      <td>0.000000</td>\n",
       "      <td>0.000000</td>\n",
       "      <td>0.142336</td>\n",
       "      <td>0.0</td>\n",
       "      <td>0.76</td>\n",
       "    </tr>\n",
       "    <tr>\n",
       "      <th>1</th>\n",
       "      <td>0.272727</td>\n",
       "      <td>0.633333</td>\n",
       "      <td>0.047619</td>\n",
       "      <td>0.003472</td>\n",
       "      <td>0.003472</td>\n",
       "      <td>0.163017</td>\n",
       "      <td>0.0</td>\n",
       "      <td>0.60</td>\n",
       "    </tr>\n",
       "    <tr>\n",
       "      <th>2</th>\n",
       "      <td>0.727273</td>\n",
       "      <td>0.033333</td>\n",
       "      <td>0.095238</td>\n",
       "      <td>0.006944</td>\n",
       "      <td>0.006944</td>\n",
       "      <td>0.078264</td>\n",
       "      <td>0.0</td>\n",
       "      <td>0.56</td>\n",
       "    </tr>\n",
       "    <tr>\n",
       "      <th>3</th>\n",
       "      <td>0.909091</td>\n",
       "      <td>0.800000</td>\n",
       "      <td>0.142857</td>\n",
       "      <td>0.010417</td>\n",
       "      <td>0.010417</td>\n",
       "      <td>0.170722</td>\n",
       "      <td>0.0</td>\n",
       "      <td>0.40</td>\n",
       "    </tr>\n",
       "    <tr>\n",
       "      <th>4</th>\n",
       "      <td>0.818182</td>\n",
       "      <td>0.200000</td>\n",
       "      <td>0.190476</td>\n",
       "      <td>0.013889</td>\n",
       "      <td>0.013889</td>\n",
       "      <td>0.079684</td>\n",
       "      <td>1.0</td>\n",
       "      <td>0.72</td>\n",
       "    </tr>\n",
       "  </tbody>\n",
       "</table>\n",
       "</div>"
      ],
      "text/plain": [
       "      Month  DayofMonth  UniqueCarrier    Origin      Dest  Distance  \\\n",
       "0  0.636364    0.666667       0.000000  0.000000  0.000000  0.142336   \n",
       "1  0.272727    0.633333       0.047619  0.003472  0.003472  0.163017   \n",
       "2  0.727273    0.033333       0.095238  0.006944  0.006944  0.078264   \n",
       "3  0.909091    0.800000       0.142857  0.010417  0.010417  0.170722   \n",
       "4  0.818182    0.200000       0.190476  0.013889  0.013889  0.079684   \n",
       "\n",
       "   dep_delayed_15min  hour  \n",
       "0                0.0  0.76  \n",
       "1                0.0  0.60  \n",
       "2                0.0  0.56  \n",
       "3                0.0  0.40  \n",
       "4                1.0  0.72  "
      ]
     },
     "execution_count": 7,
     "metadata": {},
     "output_type": "execute_result"
    }
   ],
   "source": [
    "for column in train.columns:\n",
    "    train[column] = (train[column] - train[column].min()) / (train[column].max() - train[column].min()) \n",
    "train.head()\n"
   ]
  },
  {
   "cell_type": "code",
   "execution_count": 8,
   "id": "8569ab3c",
   "metadata": {},
   "outputs": [
    {
     "data": {
      "text/html": [
       "<div>\n",
       "<style scoped>\n",
       "    .dataframe tbody tr th:only-of-type {\n",
       "        vertical-align: middle;\n",
       "    }\n",
       "\n",
       "    .dataframe tbody tr th {\n",
       "        vertical-align: top;\n",
       "    }\n",
       "\n",
       "    .dataframe thead th {\n",
       "        text-align: right;\n",
       "    }\n",
       "</style>\n",
       "<table border=\"1\" class=\"dataframe\">\n",
       "  <thead>\n",
       "    <tr style=\"text-align: right;\">\n",
       "      <th></th>\n",
       "      <th>Month</th>\n",
       "      <th>DayofMonth</th>\n",
       "      <th>UniqueCarrier</th>\n",
       "      <th>Origin</th>\n",
       "      <th>Dest</th>\n",
       "      <th>Distance</th>\n",
       "      <th>hour</th>\n",
       "    </tr>\n",
       "  </thead>\n",
       "  <tbody>\n",
       "    <tr>\n",
       "      <th>0</th>\n",
       "      <td>0.545455</td>\n",
       "      <td>0.800000</td>\n",
       "      <td>0.000000</td>\n",
       "      <td>0.000000</td>\n",
       "      <td>0.000000</td>\n",
       "      <td>0.114987</td>\n",
       "      <td>0.250000</td>\n",
       "    </tr>\n",
       "    <tr>\n",
       "      <th>1</th>\n",
       "      <td>0.272727</td>\n",
       "      <td>0.533333</td>\n",
       "      <td>0.052632</td>\n",
       "      <td>0.003344</td>\n",
       "      <td>0.003367</td>\n",
       "      <td>0.244170</td>\n",
       "      <td>0.291667</td>\n",
       "    </tr>\n",
       "    <tr>\n",
       "      <th>2</th>\n",
       "      <td>1.000000</td>\n",
       "      <td>0.033333</td>\n",
       "      <td>0.105263</td>\n",
       "      <td>0.006689</td>\n",
       "      <td>0.006734</td>\n",
       "      <td>0.110728</td>\n",
       "      <td>0.250000</td>\n",
       "    </tr>\n",
       "    <tr>\n",
       "      <th>3</th>\n",
       "      <td>0.181818</td>\n",
       "      <td>0.800000</td>\n",
       "      <td>0.052632</td>\n",
       "      <td>0.010033</td>\n",
       "      <td>0.010101</td>\n",
       "      <td>0.070168</td>\n",
       "      <td>0.666667</td>\n",
       "    </tr>\n",
       "    <tr>\n",
       "      <th>4</th>\n",
       "      <td>0.454545</td>\n",
       "      <td>0.166667</td>\n",
       "      <td>0.157895</td>\n",
       "      <td>0.013378</td>\n",
       "      <td>0.013468</td>\n",
       "      <td>0.046035</td>\n",
       "      <td>0.625000</td>\n",
       "    </tr>\n",
       "  </tbody>\n",
       "</table>\n",
       "</div>"
      ],
      "text/plain": [
       "      Month  DayofMonth  UniqueCarrier    Origin      Dest  Distance      hour\n",
       "0  0.545455    0.800000       0.000000  0.000000  0.000000  0.114987  0.250000\n",
       "1  0.272727    0.533333       0.052632  0.003344  0.003367  0.244170  0.291667\n",
       "2  1.000000    0.033333       0.105263  0.006689  0.006734  0.110728  0.250000\n",
       "3  0.181818    0.800000       0.052632  0.010033  0.010101  0.070168  0.666667\n",
       "4  0.454545    0.166667       0.157895  0.013378  0.013468  0.046035  0.625000"
      ]
     },
     "execution_count": 8,
     "metadata": {},
     "output_type": "execute_result"
    }
   ],
   "source": [
    "for column in test.columns:\n",
    "    test[column] = (test[column] - test[column].min()) / (test[column].max() - test[column].min()) \n",
    "test.head()"
   ]
  },
  {
   "cell_type": "code",
   "execution_count": 13,
   "id": "4fc9174f",
   "metadata": {},
   "outputs": [
    {
     "name": "stdout",
     "output_type": "stream",
     "text": [
      "0.0    80956\n",
      "1.0    19044\n",
      "Name: dep_delayed_15min, dtype: int64\n"
     ]
    }
   ],
   "source": [
    "print(train['dep_delayed_15min'].value_counts())\n",
    "df_class_0 = train[train['dep_delayed_15min'] == 0]\n",
    "df_class_1 = train[train['dep_delayed_15min'] == 1]"
   ]
  },
  {
   "cell_type": "code",
   "execution_count": 14,
   "id": "2b367e27",
   "metadata": {},
   "outputs": [
    {
     "name": "stdout",
     "output_type": "stream",
     "text": [
      "<class 'pandas.core.frame.DataFrame'>\n",
      "Int64Index: 38088 entries, 55809 to 99993\n",
      "Data columns (total 8 columns):\n",
      " #   Column             Non-Null Count  Dtype  \n",
      "---  ------             --------------  -----  \n",
      " 0   Month              38088 non-null  float64\n",
      " 1   DayofMonth         38088 non-null  float64\n",
      " 2   UniqueCarrier      38088 non-null  float64\n",
      " 3   Origin             38088 non-null  float64\n",
      " 4   Dest               38088 non-null  float64\n",
      " 5   Distance           38088 non-null  float64\n",
      " 6   dep_delayed_15min  38088 non-null  float64\n",
      " 7   hour               38088 non-null  float64\n",
      "dtypes: float64(8)\n",
      "memory usage: 2.6 MB\n"
     ]
    }
   ],
   "source": [
    "df_class_0_over = df_class_0.sample(19044, replace=True)\n",
    "train = pd.concat([df_class_0_over, df_class_1], axis=0)\n",
    "train.info()"
   ]
  },
  {
   "cell_type": "code",
   "execution_count": 15,
   "id": "be0205c4",
   "metadata": {},
   "outputs": [],
   "source": [
    "x = train.drop([\"dep_delayed_15min\"], axis=1)\n",
    "y = train[\"dep_delayed_15min\"]"
   ]
  },
  {
   "cell_type": "code",
   "execution_count": 16,
   "id": "bca0f84a",
   "metadata": {},
   "outputs": [
    {
     "name": "stdout",
     "output_type": "stream",
     "text": [
      "(34279, 7)\n",
      "(3809, 7)\n",
      "(34279,)\n",
      "(3809,)\n"
     ]
    }
   ],
   "source": [
    "from sklearn.model_selection import train_test_split\n",
    "xtrain,xtest,ytrain,ytest= train_test_split(x,y,test_size=0.1,stratify=y)\n",
    "print(xtrain.shape)\n",
    "print(xtest.shape)\n",
    "print(ytrain.shape)\n",
    "print(ytest.shape)"
   ]
  },
  {
   "cell_type": "code",
   "execution_count": 21,
   "id": "c99eaa9f",
   "metadata": {},
   "outputs": [
    {
     "data": {
      "text/html": [
       "<style>#sk-container-id-1 {color: black;background-color: white;}#sk-container-id-1 pre{padding: 0;}#sk-container-id-1 div.sk-toggleable {background-color: white;}#sk-container-id-1 label.sk-toggleable__label {cursor: pointer;display: block;width: 100%;margin-bottom: 0;padding: 0.3em;box-sizing: border-box;text-align: center;}#sk-container-id-1 label.sk-toggleable__label-arrow:before {content: \"▸\";float: left;margin-right: 0.25em;color: #696969;}#sk-container-id-1 label.sk-toggleable__label-arrow:hover:before {color: black;}#sk-container-id-1 div.sk-estimator:hover label.sk-toggleable__label-arrow:before {color: black;}#sk-container-id-1 div.sk-toggleable__content {max-height: 0;max-width: 0;overflow: hidden;text-align: left;background-color: #f0f8ff;}#sk-container-id-1 div.sk-toggleable__content pre {margin: 0.2em;color: black;border-radius: 0.25em;background-color: #f0f8ff;}#sk-container-id-1 input.sk-toggleable__control:checked~div.sk-toggleable__content {max-height: 200px;max-width: 100%;overflow: auto;}#sk-container-id-1 input.sk-toggleable__control:checked~label.sk-toggleable__label-arrow:before {content: \"▾\";}#sk-container-id-1 div.sk-estimator input.sk-toggleable__control:checked~label.sk-toggleable__label {background-color: #d4ebff;}#sk-container-id-1 div.sk-label input.sk-toggleable__control:checked~label.sk-toggleable__label {background-color: #d4ebff;}#sk-container-id-1 input.sk-hidden--visually {border: 0;clip: rect(1px 1px 1px 1px);clip: rect(1px, 1px, 1px, 1px);height: 1px;margin: -1px;overflow: hidden;padding: 0;position: absolute;width: 1px;}#sk-container-id-1 div.sk-estimator {font-family: monospace;background-color: #f0f8ff;border: 1px dotted black;border-radius: 0.25em;box-sizing: border-box;margin-bottom: 0.5em;}#sk-container-id-1 div.sk-estimator:hover {background-color: #d4ebff;}#sk-container-id-1 div.sk-parallel-item::after {content: \"\";width: 100%;border-bottom: 1px solid gray;flex-grow: 1;}#sk-container-id-1 div.sk-label:hover label.sk-toggleable__label {background-color: #d4ebff;}#sk-container-id-1 div.sk-serial::before {content: \"\";position: absolute;border-left: 1px solid gray;box-sizing: border-box;top: 0;bottom: 0;left: 50%;z-index: 0;}#sk-container-id-1 div.sk-serial {display: flex;flex-direction: column;align-items: center;background-color: white;padding-right: 0.2em;padding-left: 0.2em;position: relative;}#sk-container-id-1 div.sk-item {position: relative;z-index: 1;}#sk-container-id-1 div.sk-parallel {display: flex;align-items: stretch;justify-content: center;background-color: white;position: relative;}#sk-container-id-1 div.sk-item::before, #sk-container-id-1 div.sk-parallel-item::before {content: \"\";position: absolute;border-left: 1px solid gray;box-sizing: border-box;top: 0;bottom: 0;left: 50%;z-index: -1;}#sk-container-id-1 div.sk-parallel-item {display: flex;flex-direction: column;z-index: 1;position: relative;background-color: white;}#sk-container-id-1 div.sk-parallel-item:first-child::after {align-self: flex-end;width: 50%;}#sk-container-id-1 div.sk-parallel-item:last-child::after {align-self: flex-start;width: 50%;}#sk-container-id-1 div.sk-parallel-item:only-child::after {width: 0;}#sk-container-id-1 div.sk-dashed-wrapped {border: 1px dashed gray;margin: 0 0.4em 0.5em 0.4em;box-sizing: border-box;padding-bottom: 0.4em;background-color: white;}#sk-container-id-1 div.sk-label label {font-family: monospace;font-weight: bold;display: inline-block;line-height: 1.2em;}#sk-container-id-1 div.sk-label-container {text-align: center;}#sk-container-id-1 div.sk-container {/* jupyter's `normalize.less` sets `[hidden] { display: none; }` but bootstrap.min.css set `[hidden] { display: none !important; }` so we also need the `!important` here to be able to override the default hidden behavior on the sphinx rendered scikit-learn.org. See: https://github.com/scikit-learn/scikit-learn/issues/21755 */display: inline-block !important;position: relative;}#sk-container-id-1 div.sk-text-repr-fallback {display: none;}</style><div id=\"sk-container-id-1\" class=\"sk-top-container\"><div class=\"sk-text-repr-fallback\"><pre>SVC(gamma=8)</pre><b>In a Jupyter environment, please rerun this cell to show the HTML representation or trust the notebook. <br />On GitHub, the HTML representation is unable to render, please try loading this page with nbviewer.org.</b></div><div class=\"sk-container\" hidden><div class=\"sk-item\"><div class=\"sk-estimator sk-toggleable\"><input class=\"sk-toggleable__control sk-hidden--visually\" id=\"sk-estimator-id-1\" type=\"checkbox\" checked><label for=\"sk-estimator-id-1\" class=\"sk-toggleable__label sk-toggleable__label-arrow\">SVC</label><div class=\"sk-toggleable__content\"><pre>SVC(gamma=8)</pre></div></div></div></div></div>"
      ],
      "text/plain": [
       "SVC(gamma=8)"
      ]
     },
     "execution_count": 21,
     "metadata": {},
     "output_type": "execute_result"
    }
   ],
   "source": [
    "from sklearn.svm import SVC\n",
    "svc_s_model = SVC(kernel='rbf',gamma=8)\n",
    "svc_s_model.fit(xtrain, ytrain)"
   ]
  },
  {
   "cell_type": "code",
   "execution_count": 31,
   "id": "171d7ca6",
   "metadata": {},
   "outputs": [
    {
     "data": {
      "text/html": [
       "<style>#sk-container-id-2 {color: black;background-color: white;}#sk-container-id-2 pre{padding: 0;}#sk-container-id-2 div.sk-toggleable {background-color: white;}#sk-container-id-2 label.sk-toggleable__label {cursor: pointer;display: block;width: 100%;margin-bottom: 0;padding: 0.3em;box-sizing: border-box;text-align: center;}#sk-container-id-2 label.sk-toggleable__label-arrow:before {content: \"▸\";float: left;margin-right: 0.25em;color: #696969;}#sk-container-id-2 label.sk-toggleable__label-arrow:hover:before {color: black;}#sk-container-id-2 div.sk-estimator:hover label.sk-toggleable__label-arrow:before {color: black;}#sk-container-id-2 div.sk-toggleable__content {max-height: 0;max-width: 0;overflow: hidden;text-align: left;background-color: #f0f8ff;}#sk-container-id-2 div.sk-toggleable__content pre {margin: 0.2em;color: black;border-radius: 0.25em;background-color: #f0f8ff;}#sk-container-id-2 input.sk-toggleable__control:checked~div.sk-toggleable__content {max-height: 200px;max-width: 100%;overflow: auto;}#sk-container-id-2 input.sk-toggleable__control:checked~label.sk-toggleable__label-arrow:before {content: \"▾\";}#sk-container-id-2 div.sk-estimator input.sk-toggleable__control:checked~label.sk-toggleable__label {background-color: #d4ebff;}#sk-container-id-2 div.sk-label input.sk-toggleable__control:checked~label.sk-toggleable__label {background-color: #d4ebff;}#sk-container-id-2 input.sk-hidden--visually {border: 0;clip: rect(1px 1px 1px 1px);clip: rect(1px, 1px, 1px, 1px);height: 1px;margin: -1px;overflow: hidden;padding: 0;position: absolute;width: 1px;}#sk-container-id-2 div.sk-estimator {font-family: monospace;background-color: #f0f8ff;border: 1px dotted black;border-radius: 0.25em;box-sizing: border-box;margin-bottom: 0.5em;}#sk-container-id-2 div.sk-estimator:hover {background-color: #d4ebff;}#sk-container-id-2 div.sk-parallel-item::after {content: \"\";width: 100%;border-bottom: 1px solid gray;flex-grow: 1;}#sk-container-id-2 div.sk-label:hover label.sk-toggleable__label {background-color: #d4ebff;}#sk-container-id-2 div.sk-serial::before {content: \"\";position: absolute;border-left: 1px solid gray;box-sizing: border-box;top: 0;bottom: 0;left: 50%;z-index: 0;}#sk-container-id-2 div.sk-serial {display: flex;flex-direction: column;align-items: center;background-color: white;padding-right: 0.2em;padding-left: 0.2em;position: relative;}#sk-container-id-2 div.sk-item {position: relative;z-index: 1;}#sk-container-id-2 div.sk-parallel {display: flex;align-items: stretch;justify-content: center;background-color: white;position: relative;}#sk-container-id-2 div.sk-item::before, #sk-container-id-2 div.sk-parallel-item::before {content: \"\";position: absolute;border-left: 1px solid gray;box-sizing: border-box;top: 0;bottom: 0;left: 50%;z-index: -1;}#sk-container-id-2 div.sk-parallel-item {display: flex;flex-direction: column;z-index: 1;position: relative;background-color: white;}#sk-container-id-2 div.sk-parallel-item:first-child::after {align-self: flex-end;width: 50%;}#sk-container-id-2 div.sk-parallel-item:last-child::after {align-self: flex-start;width: 50%;}#sk-container-id-2 div.sk-parallel-item:only-child::after {width: 0;}#sk-container-id-2 div.sk-dashed-wrapped {border: 1px dashed gray;margin: 0 0.4em 0.5em 0.4em;box-sizing: border-box;padding-bottom: 0.4em;background-color: white;}#sk-container-id-2 div.sk-label label {font-family: monospace;font-weight: bold;display: inline-block;line-height: 1.2em;}#sk-container-id-2 div.sk-label-container {text-align: center;}#sk-container-id-2 div.sk-container {/* jupyter's `normalize.less` sets `[hidden] { display: none; }` but bootstrap.min.css set `[hidden] { display: none !important; }` so we also need the `!important` here to be able to override the default hidden behavior on the sphinx rendered scikit-learn.org. See: https://github.com/scikit-learn/scikit-learn/issues/21755 */display: inline-block !important;position: relative;}#sk-container-id-2 div.sk-text-repr-fallback {display: none;}</style><div id=\"sk-container-id-2\" class=\"sk-top-container\"><div class=\"sk-text-repr-fallback\"><pre>XGBClassifier(base_score=0.5, booster=&#x27;gbtree&#x27;, callbacks=None,\n",
       "              colsample_bylevel=1, colsample_bynode=1, colsample_bytree=1,\n",
       "              early_stopping_rounds=None, enable_categorical=False,\n",
       "              eval_metric=None, gamma=0, gpu_id=-1, grow_policy=&#x27;depthwise&#x27;,\n",
       "              importance_type=None, interaction_constraints=&#x27;&#x27;,\n",
       "              learning_rate=0.300000012, max_bin=256, max_cat_to_onehot=4,\n",
       "              max_delta_step=0, max_depth=6, max_leaves=0, min_child_weight=1,\n",
       "              missing=nan, monotone_constraints=&#x27;()&#x27;, n_estimators=100,\n",
       "              n_jobs=0, num_parallel_tree=1, predictor=&#x27;auto&#x27;, random_state=0,\n",
       "              reg_alpha=0, reg_lambda=1, ...)</pre><b>In a Jupyter environment, please rerun this cell to show the HTML representation or trust the notebook. <br />On GitHub, the HTML representation is unable to render, please try loading this page with nbviewer.org.</b></div><div class=\"sk-container\" hidden><div class=\"sk-item\"><div class=\"sk-estimator sk-toggleable\"><input class=\"sk-toggleable__control sk-hidden--visually\" id=\"sk-estimator-id-2\" type=\"checkbox\" checked><label for=\"sk-estimator-id-2\" class=\"sk-toggleable__label sk-toggleable__label-arrow\">XGBClassifier</label><div class=\"sk-toggleable__content\"><pre>XGBClassifier(base_score=0.5, booster=&#x27;gbtree&#x27;, callbacks=None,\n",
       "              colsample_bylevel=1, colsample_bynode=1, colsample_bytree=1,\n",
       "              early_stopping_rounds=None, enable_categorical=False,\n",
       "              eval_metric=None, gamma=0, gpu_id=-1, grow_policy=&#x27;depthwise&#x27;,\n",
       "              importance_type=None, interaction_constraints=&#x27;&#x27;,\n",
       "              learning_rate=0.300000012, max_bin=256, max_cat_to_onehot=4,\n",
       "              max_delta_step=0, max_depth=6, max_leaves=0, min_child_weight=1,\n",
       "              missing=nan, monotone_constraints=&#x27;()&#x27;, n_estimators=100,\n",
       "              n_jobs=0, num_parallel_tree=1, predictor=&#x27;auto&#x27;, random_state=0,\n",
       "              reg_alpha=0, reg_lambda=1, ...)</pre></div></div></div></div></div>"
      ],
      "text/plain": [
       "XGBClassifier(base_score=0.5, booster='gbtree', callbacks=None,\n",
       "              colsample_bylevel=1, colsample_bynode=1, colsample_bytree=1,\n",
       "              early_stopping_rounds=None, enable_categorical=False,\n",
       "              eval_metric=None, gamma=0, gpu_id=-1, grow_policy='depthwise',\n",
       "              importance_type=None, interaction_constraints='',\n",
       "              learning_rate=0.300000012, max_bin=256, max_cat_to_onehot=4,\n",
       "              max_delta_step=0, max_depth=6, max_leaves=0, min_child_weight=1,\n",
       "              missing=nan, monotone_constraints='()', n_estimators=100,\n",
       "              n_jobs=0, num_parallel_tree=1, predictor='auto', random_state=0,\n",
       "              reg_alpha=0, reg_lambda=1, ...)"
      ]
     },
     "execution_count": 31,
     "metadata": {},
     "output_type": "execute_result"
    }
   ],
   "source": [
    "from xgboost import XGBClassifier\n",
    "svc_model=XGBClassifier()\n",
    "svc_model.fit(xtrain,ytrain)"
   ]
  },
  {
   "cell_type": "code",
   "execution_count": 22,
   "id": "13fbf1c1",
   "metadata": {},
   "outputs": [
    {
     "name": "stdout",
     "output_type": "stream",
     "text": [
      "Training confusion matrix\n",
      "[[10757  6383]\n",
      " [ 4895 12244]]\n",
      "validation confusion matrix\n",
      "[[1169  735]\n",
      " [ 590 1315]]\n",
      "              precision    recall  f1-score   support\n",
      "\n",
      "         0.0       0.66      0.61      0.64      1904\n",
      "         1.0       0.64      0.69      0.66      1905\n",
      "\n",
      "    accuracy                           0.65      3809\n",
      "   macro avg       0.65      0.65      0.65      3809\n",
      "weighted avg       0.65      0.65      0.65      3809\n",
      "\n",
      "training accuracy = 67.09939029726655\n",
      "testing accuracy = 65.21396692045155\n"
     ]
    }
   ],
   "source": [
    "from sklearn.metrics import accuracy_score, confusion_matrix, classification_report\n",
    "predictions= svc_s_model.predict(xtrain)\n",
    "percentage=svc_s_model.score(xtrain,ytrain)\n",
    "res=confusion_matrix(ytrain,predictions)\n",
    "print(\"Training confusion matrix\")\n",
    "print(res)\n",
    "predictions= svc_s_model.predict(xtest)\n",
    "percentage=svc_s_model.score(xtest,ytest)\n",
    "res=confusion_matrix(ytest,predictions)\n",
    "print(\"validation confusion matrix\")\n",
    "print(res)\n",
    "print(classification_report(ytest, predictions))\n",
    "# check the accuracy on the training set\n",
    "print('training accuracy = '+str(svc_s_model.score(xtrain, ytrain)*100))\n",
    "print('testing accuracy = '+str(svc_s_model.score(xtest, ytest)*100))"
   ]
  },
  {
   "cell_type": "code",
   "execution_count": 32,
   "id": "a057982c",
   "metadata": {},
   "outputs": [
    {
     "name": "stdout",
     "output_type": "stream",
     "text": [
      "Training confusion matrix\n",
      "[[12765  4375]\n",
      " [ 3696 13443]]\n",
      "validation confusion matrix\n",
      "[[1243  661]\n",
      " [ 608 1297]]\n",
      "              precision    recall  f1-score   support\n",
      "\n",
      "         0.0       0.67      0.65      0.66      1904\n",
      "         1.0       0.66      0.68      0.67      1905\n",
      "\n",
      "    accuracy                           0.67      3809\n",
      "   macro avg       0.67      0.67      0.67      3809\n",
      "weighted avg       0.67      0.67      0.67      3809\n",
      "\n",
      "training accuracy = 76.45497243210129\n",
      "testing accuracy = 66.68416907324757\n"
     ]
    }
   ],
   "source": [
    "from sklearn.metrics import accuracy_score, confusion_matrix, classification_report\n",
    "predictions= svc_model.predict(xtrain)\n",
    "percentage=svc_model.score(xtrain,ytrain)\n",
    "res=confusion_matrix(ytrain,predictions)\n",
    "print(\"Training confusion matrix\")\n",
    "print(res)\n",
    "predictions= svc_model.predict(xtest)\n",
    "percentage=svc_model.score(xtest,ytest)\n",
    "res=confusion_matrix(ytest,predictions)\n",
    "print(\"validation confusion matrix\")\n",
    "print(res)\n",
    "print(classification_report(ytest, predictions))\n",
    "# check the accuracy on the training set\n",
    "print('training accuracy = '+str(svc_model.score(xtrain, ytrain)*100))\n",
    "print('testing accuracy = '+str(svc_model.score(xtest, ytest)*100))"
   ]
  },
  {
   "cell_type": "code",
   "execution_count": 26,
   "id": "e441ece4",
   "metadata": {},
   "outputs": [
    {
     "name": "stdout",
     "output_type": "stream",
     "text": [
      "Model: \"sequential_1\"\n",
      "_________________________________________________________________\n",
      " Layer (type)                Output Shape              Param #   \n",
      "=================================================================\n",
      " dense_3 (Dense)             (None, 512)               4096      \n",
      "                                                                 \n",
      " dense_4 (Dense)             (None, 512)               262656    \n",
      "                                                                 \n",
      " dense_5 (Dense)             (None, 1)                 513       \n",
      "                                                                 \n",
      "=================================================================\n",
      "Total params: 267,265\n",
      "Trainable params: 267,265\n",
      "Non-trainable params: 0\n",
      "_________________________________________________________________\n"
     ]
    }
   ],
   "source": [
    "import tensorflow as tf\n",
    "from tensorflow.keras import Sequential\n",
    "from tensorflow.keras.layers import Dense, Dropout\n",
    "dl_model = Sequential() \n",
    "\n",
    "dl_model.add(Dense(512,  activation = 'relu' ,input_shape=([7]))) #input layer\n",
    "dl_model.add(Dense(512,  activation = 'relu'))\n",
    "dl_model.add(Dense(1,activation = 'sigmoid'))\n",
    "dl_model.summary()\n",
    "dl_model.compile(optimizer = 'adam' , loss = 'binary_crossentropy' ,metrics = ['accuracy','Precision','Recall','AUC'])"
   ]
  },
  {
   "cell_type": "code",
   "execution_count": 29,
   "id": "3e76d203",
   "metadata": {},
   "outputs": [
    {
     "name": "stdout",
     "output_type": "stream",
     "text": [
      "Epoch 1/30\n",
      "50/50 [==============================] - 1s 20ms/step - loss: 0.6161 - accuracy: 0.6464 - precision: 0.6346 - recall: 0.6902 - auc: 0.7105 - val_loss: 0.6262 - val_accuracy: 0.6382 - val_precision: 0.6445 - val_recall: 0.6168 - val_auc: 0.6995\n",
      "Epoch 2/30\n",
      "50/50 [==============================] - 1s 20ms/step - loss: 0.6156 - accuracy: 0.6481 - precision: 0.6354 - recall: 0.6948 - auc: 0.7115 - val_loss: 0.6273 - val_accuracy: 0.6548 - val_precision: 0.6292 - val_recall: 0.7543 - val_auc: 0.7005\n",
      "Epoch 3/30\n",
      "50/50 [==============================] - 1s 21ms/step - loss: 0.6148 - accuracy: 0.6462 - precision: 0.6335 - recall: 0.6936 - auc: 0.7117 - val_loss: 0.6244 - val_accuracy: 0.6514 - val_precision: 0.6364 - val_recall: 0.7066 - val_auc: 0.7020\n",
      "Epoch 4/30\n",
      "50/50 [==============================] - 1s 21ms/step - loss: 0.6155 - accuracy: 0.6490 - precision: 0.6362 - recall: 0.6958 - auc: 0.7110 - val_loss: 0.6245 - val_accuracy: 0.6472 - val_precision: 0.6413 - val_recall: 0.6682 - val_auc: 0.7017\n",
      "Epoch 5/30\n",
      "50/50 [==============================] - 1s 21ms/step - loss: 0.6139 - accuracy: 0.6509 - precision: 0.6376 - recall: 0.6989 - auc: 0.7136 - val_loss: 0.6251 - val_accuracy: 0.6416 - val_precision: 0.6445 - val_recall: 0.6320 - val_auc: 0.7020\n",
      "Epoch 6/30\n",
      "50/50 [==============================] - 1s 21ms/step - loss: 0.6145 - accuracy: 0.6489 - precision: 0.6365 - recall: 0.6943 - auc: 0.7118 - val_loss: 0.6252 - val_accuracy: 0.6466 - val_precision: 0.6424 - val_recall: 0.6619 - val_auc: 0.7012\n",
      "Epoch 7/30\n",
      "50/50 [==============================] - 1s 21ms/step - loss: 0.6146 - accuracy: 0.6498 - precision: 0.6369 - recall: 0.6968 - auc: 0.7124 - val_loss: 0.6323 - val_accuracy: 0.6285 - val_precision: 0.6569 - val_recall: 0.5386 - val_auc: 0.7002\n",
      "Epoch 8/30\n",
      "50/50 [==============================] - 1s 20ms/step - loss: 0.6147 - accuracy: 0.6499 - precision: 0.6382 - recall: 0.6920 - auc: 0.7123 - val_loss: 0.6232 - val_accuracy: 0.6493 - val_precision: 0.6390 - val_recall: 0.6866 - val_auc: 0.7028\n",
      "Epoch 9/30\n",
      "50/50 [==============================] - 1s 20ms/step - loss: 0.6143 - accuracy: 0.6493 - precision: 0.6364 - recall: 0.6965 - auc: 0.7127 - val_loss: 0.6264 - val_accuracy: 0.6398 - val_precision: 0.6411 - val_recall: 0.6357 - val_auc: 0.6999\n",
      "Epoch 10/30\n",
      "50/50 [==============================] - 1s 21ms/step - loss: 0.6126 - accuracy: 0.6505 - precision: 0.6385 - recall: 0.6939 - auc: 0.7147 - val_loss: 0.6228 - val_accuracy: 0.6453 - val_precision: 0.6425 - val_recall: 0.6556 - val_auc: 0.7025\n",
      "Epoch 11/30\n",
      "50/50 [==============================] - 1s 22ms/step - loss: 0.6121 - accuracy: 0.6514 - precision: 0.6382 - recall: 0.6989 - auc: 0.7153 - val_loss: 0.6248 - val_accuracy: 0.6443 - val_precision: 0.6455 - val_recall: 0.6404 - val_auc: 0.7018\n",
      "Epoch 12/30\n",
      "50/50 [==============================] - 1s 22ms/step - loss: 0.6126 - accuracy: 0.6517 - precision: 0.6400 - recall: 0.6934 - auc: 0.7147 - val_loss: 0.6244 - val_accuracy: 0.6432 - val_precision: 0.6396 - val_recall: 0.6567 - val_auc: 0.7010\n",
      "Epoch 13/30\n",
      "50/50 [==============================] - 1s 21ms/step - loss: 0.6114 - accuracy: 0.6524 - precision: 0.6410 - recall: 0.6930 - auc: 0.7164 - val_loss: 0.6236 - val_accuracy: 0.6393 - val_precision: 0.6376 - val_recall: 0.6457 - val_auc: 0.7032\n",
      "Epoch 14/30\n",
      "50/50 [==============================] - 1s 21ms/step - loss: 0.6112 - accuracy: 0.6518 - precision: 0.6407 - recall: 0.6912 - auc: 0.7167 - val_loss: 0.6260 - val_accuracy: 0.6458 - val_precision: 0.6452 - val_recall: 0.6483 - val_auc: 0.7022\n",
      "Epoch 15/30\n",
      "50/50 [==============================] - 1s 24ms/step - loss: 0.6159 - accuracy: 0.6475 - precision: 0.6361 - recall: 0.6890 - auc: 0.7111 - val_loss: 0.6239 - val_accuracy: 0.6419 - val_precision: 0.6371 - val_recall: 0.6598 - val_auc: 0.6999\n",
      "Epoch 16/30\n",
      "50/50 [==============================] - 1s 22ms/step - loss: 0.6109 - accuracy: 0.6545 - precision: 0.6440 - recall: 0.6911 - auc: 0.7172 - val_loss: 0.6243 - val_accuracy: 0.6430 - val_precision: 0.6280 - val_recall: 0.7018 - val_auc: 0.7007\n",
      "Epoch 17/30\n",
      "50/50 [==============================] - 1s 22ms/step - loss: 0.6100 - accuracy: 0.6539 - precision: 0.6408 - recall: 0.7003 - auc: 0.7183 - val_loss: 0.6229 - val_accuracy: 0.6395 - val_precision: 0.6339 - val_recall: 0.6609 - val_auc: 0.7019\n",
      "Epoch 18/30\n",
      "50/50 [==============================] - 1s 21ms/step - loss: 0.6108 - accuracy: 0.6548 - precision: 0.6437 - recall: 0.6936 - auc: 0.7176 - val_loss: 0.6225 - val_accuracy: 0.6435 - val_precision: 0.6316 - val_recall: 0.6892 - val_auc: 0.7019\n",
      "Epoch 19/30\n",
      "50/50 [==============================] - 1s 21ms/step - loss: 0.6102 - accuracy: 0.6548 - precision: 0.6431 - recall: 0.6955 - auc: 0.7181 - val_loss: 0.6261 - val_accuracy: 0.6398 - val_precision: 0.6520 - val_recall: 0.6000 - val_auc: 0.7017\n",
      "Epoch 20/30\n",
      "50/50 [==============================] - 1s 21ms/step - loss: 0.6103 - accuracy: 0.6524 - precision: 0.6417 - recall: 0.6898 - auc: 0.7184 - val_loss: 0.6246 - val_accuracy: 0.6443 - val_precision: 0.6437 - val_recall: 0.6467 - val_auc: 0.7050\n",
      "Epoch 21/30\n",
      "50/50 [==============================] - 1s 20ms/step - loss: 0.6090 - accuracy: 0.6541 - precision: 0.6433 - recall: 0.6916 - auc: 0.7192 - val_loss: 0.6250 - val_accuracy: 0.6401 - val_precision: 0.6515 - val_recall: 0.6026 - val_auc: 0.7032\n",
      "Epoch 22/30\n",
      "50/50 [==============================] - 1s 19ms/step - loss: 0.6093 - accuracy: 0.6533 - precision: 0.6424 - recall: 0.6916 - auc: 0.7193 - val_loss: 0.6229 - val_accuracy: 0.6451 - val_precision: 0.6356 - val_recall: 0.6803 - val_auc: 0.7028\n",
      "Epoch 23/30\n",
      "50/50 [==============================] - 1s 21ms/step - loss: 0.6082 - accuracy: 0.6557 - precision: 0.6454 - recall: 0.6908 - auc: 0.7205 - val_loss: 0.6232 - val_accuracy: 0.6432 - val_precision: 0.6257 - val_recall: 0.7134 - val_auc: 0.7047\n",
      "Epoch 24/30\n",
      "50/50 [==============================] - 1s 20ms/step - loss: 0.6095 - accuracy: 0.6537 - precision: 0.6412 - recall: 0.6978 - auc: 0.7192 - val_loss: 0.6272 - val_accuracy: 0.6406 - val_precision: 0.6345 - val_recall: 0.6635 - val_auc: 0.7011\n",
      "Epoch 25/30\n",
      "50/50 [==============================] - 1s 23ms/step - loss: 0.6073 - accuracy: 0.6539 - precision: 0.6433 - recall: 0.6908 - auc: 0.7215 - val_loss: 0.6266 - val_accuracy: 0.6335 - val_precision: 0.6482 - val_recall: 0.5843 - val_auc: 0.7008\n",
      "Epoch 26/30\n",
      "50/50 [==============================] - 1s 25ms/step - loss: 0.6078 - accuracy: 0.6566 - precision: 0.6474 - recall: 0.6879 - auc: 0.7210 - val_loss: 0.6263 - val_accuracy: 0.6345 - val_precision: 0.6462 - val_recall: 0.5953 - val_auc: 0.7010\n",
      "Epoch 27/30\n",
      "50/50 [==============================] - 1s 25ms/step - loss: 0.6079 - accuracy: 0.6552 - precision: 0.6453 - recall: 0.6891 - auc: 0.7207 - val_loss: 0.6237 - val_accuracy: 0.6427 - val_precision: 0.6227 - val_recall: 0.7244 - val_auc: 0.7026\n",
      "Epoch 28/30\n",
      "50/50 [==============================] - 1s 21ms/step - loss: 0.6072 - accuracy: 0.6559 - precision: 0.6449 - recall: 0.6937 - auc: 0.7215 - val_loss: 0.6248 - val_accuracy: 0.6401 - val_precision: 0.6182 - val_recall: 0.7328 - val_auc: 0.7020\n",
      "Epoch 29/30\n",
      "50/50 [==============================] - 1s 20ms/step - loss: 0.6070 - accuracy: 0.6563 - precision: 0.6445 - recall: 0.6972 - auc: 0.7224 - val_loss: 0.6220 - val_accuracy: 0.6416 - val_precision: 0.6396 - val_recall: 0.6493 - val_auc: 0.7035\n",
      "Epoch 30/30\n",
      "50/50 [==============================] - 1s 20ms/step - loss: 0.6067 - accuracy: 0.6559 - precision: 0.6457 - recall: 0.6906 - auc: 0.7222 - val_loss: 0.6243 - val_accuracy: 0.6414 - val_precision: 0.6428 - val_recall: 0.6367 - val_auc: 0.7022\n"
     ]
    }
   ],
   "source": [
    "num_epochs = 30\n",
    "history = dl_model.fit(xtrain ,\n",
    "                    ytrain ,\n",
    "                    epochs= num_epochs ,\n",
    "                    steps_per_epoch=50,\n",
    "                    validation_data=(xtest ,ytest))"
   ]
  },
  {
   "cell_type": "code",
   "execution_count": 30,
   "id": "85c058ec",
   "metadata": {},
   "outputs": [
    {
     "name": "stdout",
     "output_type": "stream",
     "text": [
      "120/120 [==============================] - 1s 4ms/step - loss: 0.6243 - accuracy: 0.6414 - precision: 0.6428 - recall: 0.6367 - auc: 0.7022\n"
     ]
    },
    {
     "data": {
      "text/plain": [
       "[0.6242818236351013,\n",
       " 0.6413756608963013,\n",
       " 0.6428192853927612,\n",
       " 0.6367453932762146,\n",
       " 0.7022359371185303]"
      ]
     },
     "execution_count": 30,
     "metadata": {},
     "output_type": "execute_result"
    }
   ],
   "source": [
    "dl_model.evaluate(xtest,ytest)"
   ]
  },
  {
   "cell_type": "code",
   "execution_count": 34,
   "id": "8055e655",
   "metadata": {},
   "outputs": [
    {
     "name": "stdout",
     "output_type": "stream",
     "text": [
      "3125/3125 [==============================] - 11s 3ms/step\n"
     ]
    }
   ],
   "source": [
    "sub = pd.read_csv(r\"C:\\Users\\sairam\\Downloads\\flight-delays-fall-2018\\sample_submission.csv\")\n",
    "target=dl_model.predict(test)\n",
    "sub['dep_delayed_15min']=target\n",
    "sub.to_csv('flight delay prediction comp-3.csv', index=False)"
   ]
  },
  {
   "cell_type": "code",
   "execution_count": null,
   "id": "59e83a11",
   "metadata": {},
   "outputs": [],
   "source": []
  }
 ],
 "metadata": {
  "kernelspec": {
   "display_name": "Python 3",
   "language": "python",
   "name": "python3"
  },
  "language_info": {
   "codemirror_mode": {
    "name": "ipython",
    "version": 3
   },
   "file_extension": ".py",
   "mimetype": "text/x-python",
   "name": "python",
   "nbconvert_exporter": "python",
   "pygments_lexer": "ipython3",
   "version": "3.8.8"
  }
 },
 "nbformat": 4,
 "nbformat_minor": 5
}
